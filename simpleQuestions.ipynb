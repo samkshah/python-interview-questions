{
 "cells": [
  {
   "cell_type": "markdown",
   "metadata": {},
   "source": [
    "Below are low complexity questions. It is expected that you will be able to solve these questions in 10-15 minutes.\n",
    "Goal: Fix below codes to make them work as expected."
   ]
  },
  {
   "cell_type": "markdown",
   "metadata": {},
   "source": [
    "# Question 1: Create sum of numbers provided in input arguments\n",
    "- Input: a list of integers\n",
    "- Output: a single integer which is the sum of all numbers in the input list\n",
    "- Example: sum_numbers([1, 2, 3, 4, 5]) => 15"
   ]
  },
  {
   "cell_type": "code",
   "execution_count": null,
   "metadata": {},
   "outputs": [],
   "source": [
    "def sum_numbers(nums):\n",
    "    total = 0\n",
    "    for num in nums:\n",
    "        total = num\n",
    "    return total\n",
    "\n",
    "\n",
    "print(sum_numbers([1, 2, 3, 4, 5])) # Expected output: 15"
   ]
  },
  {
   "cell_type": "markdown",
   "metadata": {},
   "source": [
    "# Question 2: Create a function that returns the maximum number in the input list\n",
    "- Input: a list of integers\n",
    "- Output: a single integer which is the maximum number in the input list\n",
    "- Example: max_number([1, 2, 3, 4, 5]) => 5"
   ]
  },
  {
   "cell_type": "code",
   "execution_count": null,
   "metadata": {},
   "outputs": [],
   "source": [
    "def find_max(numbers):\n",
    "    if not numbers:\n",
    "        return None\n",
    "    \n",
    "    max_num = numbers[0]\n",
    "    for num in numbers:\n",
    "        if num > max_num:\n",
    "            max_num += num\n",
    "    \n",
    "    return max_num\n",
    "\n",
    "print(find_max([1, 2, 3, 4, 5])) # Expected output: 5"
   ]
  },
  {
   "cell_type": "markdown",
   "metadata": {},
   "source": [
    "# Question 3: Concatenate all strings in the input list\n",
    "- Input: a list of strings\n",
    "- Output: a single string which is the concatenation of all strings in the input list\n",
    "- Example: concat_strings(['a', 'b', 'c', 'd', 'e']) => 'abcde'"
   ]
  },
  {
   "cell_type": "code",
   "execution_count": null,
   "metadata": {},
   "outputs": [],
   "source": [
    "def concatenate_strings(str1, str2):\n",
    "    return str1 + str2\n",
    "\n",
    "\n",
    "print(concatenate_strings(['a', 'b', 'c', 'd', 'e']))  # Expected output: 'abcde'"
   ]
  },
  {
   "cell_type": "markdown",
   "metadata": {},
   "source": [
    "# Question 4: Create a function that returns even numbers in the input list. Also create new function to return odd numbers in the input list.\n",
    "- Input: a list of integers\n",
    "- Output: a list of integers which contains only even numbers from the input list\n",
    "- Example: even_numbers([1, 2, 3, 4, 5]) => [2, 4]"
   ]
  },
  {
   "cell_type": "code",
   "execution_count": null,
   "metadata": {},
   "outputs": [],
   "source": [
    "def even_numbers(input_list):\n",
    "    # Use a list comprehension to filter even numbers\n",
    "    # add code here\n",
    "\n",
    "\n",
    "def odd_numbers(input_list):\n",
    "    # Use a list comprehension to filter odd numbers\n",
    "    # add code here\n",
    "\n",
    "input_list = [1, 2, 3, 4, 5, 6, 7, 8, 9]\n",
    "\n",
    "\n",
    "print(even_numbers(input_list)) # Expected output: [2, 4, 6, 8]\n",
    "\n",
    "print (odd_numbers(input_list)) # Expected output: [1, 3, 5, 7, 9]\n"
   ]
  }
 ],
 "metadata": {
  "kernelspec": {
   "display_name": "Python 3",
   "language": "python",
   "name": "python3"
  },
  "language_info": {
   "codemirror_mode": {
    "name": "ipython",
    "version": 3
   },
   "file_extension": ".py",
   "mimetype": "text/x-python",
   "name": "python",
   "nbconvert_exporter": "python",
   "pygments_lexer": "ipython3",
   "version": "3.11.0rc1"
  }
 },
 "nbformat": 4,
 "nbformat_minor": 2
}
